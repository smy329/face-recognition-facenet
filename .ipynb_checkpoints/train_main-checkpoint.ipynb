{
 "cells": [
  {
   "cell_type": "code",
   "execution_count": 1,
   "metadata": {},
   "outputs": [
    {
     "name": "stdout",
     "output_type": "stream",
     "text": [
      "importing Jupyter notebook from classifier.ipynb\n",
      "importing Jupyter notebook from facenet.ipynb\n",
      "Training Start\n",
      "Classes: 775\n",
      "Images: 1683\n",
      "Model filename: ./model/20170511-185253.pb\n",
      "WARNING:tensorflow:From <string>:377: FastGFile.__init__ (from tensorflow.python.platform.gfile) is deprecated and will be removed in a future version.\n",
      "Instructions for updating:\n",
      "Use tf.gfile.GFile.\n",
      "Extracting features of images for model\n",
      "Training Started\n",
      "Saved classifier model to file \"./class/classifier.pkl\"\n"
     ]
    },
    {
     "ename": "SystemExit",
     "evalue": "All Done",
     "output_type": "error",
     "traceback": [
      "An exception has occurred, use %tb to see the full traceback.\n",
      "\u001b[0;31mSystemExit\u001b[0m\u001b[0;31m:\u001b[0m All Done\n"
     ]
    },
    {
     "name": "stderr",
     "output_type": "stream",
     "text": [
      "/home/yasir/.local/lib/python3.6/site-packages/IPython/core/interactiveshell.py:3334: UserWarning: To exit: use 'exit', 'quit', or Ctrl-D.\n",
      "  warn(\"To exit: use 'exit', 'quit', or Ctrl-D.\", stacklevel=1)\n"
     ]
    }
   ],
   "source": [
    "from __future__ import absolute_import\n",
    "from __future__ import division\n",
    "from __future__ import print_function\n",
    "import import_ipynb\n",
    "import sys\n",
    "from classifier import training\n",
    "\n",
    "datadir = './pre_img'\n",
    "modeldir = './model/20170511-185253.pb'\n",
    "classifier_filename = './class/classifier.pkl'\n",
    "print (\"Training Start\")\n",
    "obj=training(datadir,modeldir,classifier_filename)\n",
    "get_file=obj.main_train()\n",
    "print('Saved classifier model to file \"%s\"' % get_file)\n",
    "sys.exit(\"All Done\")\n"
   ]
  },
  {
   "cell_type": "code",
   "execution_count": null,
   "metadata": {},
   "outputs": [],
   "source": []
  },
  {
   "cell_type": "code",
   "execution_count": null,
   "metadata": {},
   "outputs": [],
   "source": []
  }
 ],
 "metadata": {
  "kernelspec": {
   "display_name": "Python 3",
   "language": "python",
   "name": "python3"
  }
 },
 "nbformat": 4,
 "nbformat_minor": 2
}
