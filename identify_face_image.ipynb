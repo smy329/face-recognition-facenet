{
 "cells": [
  {
   "cell_type": "code",
   "execution_count": 1,
   "metadata": {},
   "outputs": [
    {
     "name": "stdout",
     "output_type": "stream",
     "text": [
      "importing Jupyter notebook from facenet.ipynb\n",
      "importing Jupyter notebook from detect_face.ipynb\n",
      "WARNING:tensorflow:From /home/yasir/anaconda3/envs/tensorflow_cpu/lib/python3.6/site-packages/tensorflow/python/ops/init_ops.py:1251: calling VarianceScaling.__init__ (from tensorflow.python.ops.init_ops) with dtype is deprecated and will be removed in a future version.\n",
      "Instructions for updating:\n",
      "Call initializer instance with the dtype argument instead of passing it to the constructor\n",
      "WARNING:tensorflow:From <string>:210: calling reduce_max_v1 (from tensorflow.python.ops.math_ops) with keep_dims is deprecated and will be removed in a future version.\n",
      "Instructions for updating:\n",
      "keep_dims is deprecated, use keepdims instead\n",
      "WARNING:tensorflow:From <string>:212: calling reduce_sum_v1 (from tensorflow.python.ops.math_ops) with keep_dims is deprecated and will be removed in a future version.\n",
      "Instructions for updating:\n",
      "keep_dims is deprecated, use keepdims instead\n",
      "WARNING:tensorflow:From <string>:213: div (from tensorflow.python.ops.math_ops) is deprecated and will be removed in a future version.\n",
      "Instructions for updating:\n",
      "Deprecated in favor of operator or tf.math.divide.\n",
      "Loading feature extraction model\n",
      "Model filename: ./model/20170511-185253.pb\n",
      "WARNING:tensorflow:From <string>:377: FastGFile.__init__ (from tensorflow.python.platform.gfile) is deprecated and will be removed in a future version.\n",
      "Instructions for updating:\n",
      "Use tf.gfile.GFile.\n",
      "Start Recognition!\n",
      "Face Detected: 1\n"
     ]
    },
    {
     "name": "stderr",
     "output_type": "stream",
     "text": [
      "/home/yasir/.local/lib/python3.6/site-packages/ipykernel_launcher.py:108: DeprecationWarning: `imresize` is deprecated!\n",
      "`imresize` is deprecated in SciPy 1.0.0, and will be removed in 1.2.0.\n",
      "Use ``skimage.transform.resize`` instead.\n"
     ]
    },
    {
     "name": "stdout",
     "output_type": "stream",
     "text": [
      "[7]\n",
      "Accuracy:  [0.81381355]\n",
      "Result Indices:  7\n",
      "['Akshay Kumar', 'Amir khan', 'Nawazuddin Siddiqui', 'Salman Khan', 'Shahrukh Khan', 'Sunil Shetty', 'Tom_cuise', 'ronaldo']\n",
      "Label Name: ronaldo\n",
      "Face Detected: 1\n"
     ]
    },
    {
     "name": "stderr",
     "output_type": "stream",
     "text": [
      "/home/yasir/.local/lib/python3.6/site-packages/ipykernel_launcher.py:108: DeprecationWarning: `imresize` is deprecated!\n",
      "`imresize` is deprecated in SciPy 1.0.0, and will be removed in 1.2.0.\n",
      "Use ``skimage.transform.resize`` instead.\n"
     ]
    },
    {
     "name": "stdout",
     "output_type": "stream",
     "text": [
      "[5]\n",
      "Accuracy:  [0.87207957]\n",
      "Result Indices:  5\n",
      "['Akshay Kumar', 'Amir khan', 'Nawazuddin Siddiqui', 'Salman Khan', 'Shahrukh Khan', 'Sunil Shetty', 'Tom_cuise', 'ronaldo']\n",
      "Label Name: Sunil Shetty\n",
      "Face Detected: 1\n"
     ]
    },
    {
     "name": "stderr",
     "output_type": "stream",
     "text": [
      "/home/yasir/.local/lib/python3.6/site-packages/ipykernel_launcher.py:108: DeprecationWarning: `imresize` is deprecated!\n",
      "`imresize` is deprecated in SciPy 1.0.0, and will be removed in 1.2.0.\n",
      "Use ``skimage.transform.resize`` instead.\n"
     ]
    },
    {
     "name": "stdout",
     "output_type": "stream",
     "text": [
      "[4]\n",
      "Accuracy:  [0.9161558]\n",
      "Result Indices:  4\n",
      "['Akshay Kumar', 'Amir khan', 'Nawazuddin Siddiqui', 'Salman Khan', 'Shahrukh Khan', 'Sunil Shetty', 'Tom_cuise', 'ronaldo']\n",
      "Label Name: Shahrukh Khan\n",
      "Face Detected: 1\n",
      "[2]\n",
      "Accuracy:  [0.92853608]\n",
      "Result Indices:  2\n",
      "['Akshay Kumar', 'Amir khan', 'Nawazuddin Siddiqui', 'Salman Khan', 'Shahrukh Khan', 'Sunil Shetty', 'Tom_cuise', 'ronaldo']\n",
      "Label Name: Nawazuddin Siddiqui\n",
      "Face Detected: 1\n"
     ]
    },
    {
     "name": "stderr",
     "output_type": "stream",
     "text": [
      "/home/yasir/.local/lib/python3.6/site-packages/ipykernel_launcher.py:108: DeprecationWarning: `imresize` is deprecated!\n",
      "`imresize` is deprecated in SciPy 1.0.0, and will be removed in 1.2.0.\n",
      "Use ``skimage.transform.resize`` instead.\n",
      "/home/yasir/.local/lib/python3.6/site-packages/ipykernel_launcher.py:108: DeprecationWarning: `imresize` is deprecated!\n",
      "`imresize` is deprecated in SciPy 1.0.0, and will be removed in 1.2.0.\n",
      "Use ``skimage.transform.resize`` instead.\n"
     ]
    },
    {
     "name": "stdout",
     "output_type": "stream",
     "text": [
      "[2]\n",
      "Accuracy:  [0.90681084]\n",
      "Result Indices:  2\n",
      "['Akshay Kumar', 'Amir khan', 'Nawazuddin Siddiqui', 'Salman Khan', 'Shahrukh Khan', 'Sunil Shetty', 'Tom_cuise', 'ronaldo']\n",
      "Label Name: Nawazuddin Siddiqui\n",
      "Face Detected: 1\n",
      "[3]\n",
      "Accuracy:  [0.43552456]\n",
      "Result Indices:  3\n",
      "['Akshay Kumar', 'Amir khan', 'Nawazuddin Siddiqui', 'Salman Khan', 'Shahrukh Khan', 'Sunil Shetty', 'Tom_cuise', 'ronaldo']\n",
      "Label Name: Salman Khan\n"
     ]
    },
    {
     "name": "stderr",
     "output_type": "stream",
     "text": [
      "/home/yasir/.local/lib/python3.6/site-packages/ipykernel_launcher.py:108: DeprecationWarning: `imresize` is deprecated!\n",
      "`imresize` is deprecated in SciPy 1.0.0, and will be removed in 1.2.0.\n",
      "Use ``skimage.transform.resize`` instead.\n",
      "/home/yasir/.local/lib/python3.6/site-packages/ipykernel_launcher.py:108: DeprecationWarning: `imresize` is deprecated!\n",
      "`imresize` is deprecated in SciPy 1.0.0, and will be removed in 1.2.0.\n",
      "Use ``skimage.transform.resize`` instead.\n"
     ]
    },
    {
     "name": "stdout",
     "output_type": "stream",
     "text": [
      "Face Detected: 1\n",
      "[0]\n",
      "Accuracy:  [0.85148115]\n",
      "Result Indices:  0\n",
      "['Akshay Kumar', 'Amir khan', 'Nawazuddin Siddiqui', 'Salman Khan', 'Shahrukh Khan', 'Sunil Shetty', 'Tom_cuise', 'ronaldo']\n",
      "Label Name: Akshay Kumar\n",
      "Face Detected: 1\n"
     ]
    },
    {
     "name": "stderr",
     "output_type": "stream",
     "text": [
      "/home/yasir/.local/lib/python3.6/site-packages/ipykernel_launcher.py:108: DeprecationWarning: `imresize` is deprecated!\n",
      "`imresize` is deprecated in SciPy 1.0.0, and will be removed in 1.2.0.\n",
      "Use ``skimage.transform.resize`` instead.\n",
      "/home/yasir/.local/lib/python3.6/site-packages/ipykernel_launcher.py:108: DeprecationWarning: `imresize` is deprecated!\n",
      "`imresize` is deprecated in SciPy 1.0.0, and will be removed in 1.2.0.\n",
      "Use ``skimage.transform.resize`` instead.\n"
     ]
    },
    {
     "name": "stdout",
     "output_type": "stream",
     "text": [
      "[4]\n",
      "Accuracy:  [0.74575817]\n",
      "Result Indices:  4\n",
      "['Akshay Kumar', 'Amir khan', 'Nawazuddin Siddiqui', 'Salman Khan', 'Shahrukh Khan', 'Sunil Shetty', 'Tom_cuise', 'ronaldo']\n",
      "Label Name: Shahrukh Khan\n",
      "Face Detected: 1\n",
      "[5]\n",
      "Accuracy:  [0.90498264]\n",
      "Result Indices:  5\n",
      "['Akshay Kumar', 'Amir khan', 'Nawazuddin Siddiqui', 'Salman Khan', 'Shahrukh Khan', 'Sunil Shetty', 'Tom_cuise', 'ronaldo']\n",
      "Label Name: Sunil Shetty\n",
      "Face Detected: 1\n",
      "[2]\n",
      "Accuracy:  [0.42386174]\n",
      "Result Indices:  2\n",
      "['Akshay Kumar', 'Amir khan', 'Nawazuddin Siddiqui', 'Salman Khan', 'Shahrukh Khan', 'Sunil Shetty', 'Tom_cuise', 'ronaldo']\n",
      "Label Name: Nawazuddin Siddiqui\n",
      "Face Detected: 1\n"
     ]
    },
    {
     "name": "stderr",
     "output_type": "stream",
     "text": [
      "/home/yasir/.local/lib/python3.6/site-packages/ipykernel_launcher.py:108: DeprecationWarning: `imresize` is deprecated!\n",
      "`imresize` is deprecated in SciPy 1.0.0, and will be removed in 1.2.0.\n",
      "Use ``skimage.transform.resize`` instead.\n",
      "/home/yasir/.local/lib/python3.6/site-packages/ipykernel_launcher.py:108: DeprecationWarning: `imresize` is deprecated!\n",
      "`imresize` is deprecated in SciPy 1.0.0, and will be removed in 1.2.0.\n",
      "Use ``skimage.transform.resize`` instead.\n"
     ]
    },
    {
     "name": "stdout",
     "output_type": "stream",
     "text": [
      "[5]\n",
      "Accuracy:  [0.92841788]\n",
      "Result Indices:  5\n",
      "['Akshay Kumar', 'Amir khan', 'Nawazuddin Siddiqui', 'Salman Khan', 'Shahrukh Khan', 'Sunil Shetty', 'Tom_cuise', 'ronaldo']\n",
      "Label Name: Sunil Shetty\n",
      "Face Detected: 0\n",
      "Unable to align\n",
      "Face Detected: 1\n",
      "[0]\n",
      "Accuracy:  [0.72294895]\n",
      "Result Indices:  0\n",
      "['Akshay Kumar', 'Amir khan', 'Nawazuddin Siddiqui', 'Salman Khan', 'Shahrukh Khan', 'Sunil Shetty', 'Tom_cuise', 'ronaldo']\n",
      "Label Name: Akshay Kumar\n"
     ]
    },
    {
     "name": "stderr",
     "output_type": "stream",
     "text": [
      "/home/yasir/.local/lib/python3.6/site-packages/ipykernel_launcher.py:108: DeprecationWarning: `imresize` is deprecated!\n",
      "`imresize` is deprecated in SciPy 1.0.0, and will be removed in 1.2.0.\n",
      "Use ``skimage.transform.resize`` instead.\n",
      "/home/yasir/.local/lib/python3.6/site-packages/ipykernel_launcher.py:108: DeprecationWarning: `imresize` is deprecated!\n",
      "`imresize` is deprecated in SciPy 1.0.0, and will be removed in 1.2.0.\n",
      "Use ``skimage.transform.resize`` instead.\n"
     ]
    },
    {
     "name": "stdout",
     "output_type": "stream",
     "text": [
      "Face Detected: 1\n",
      "[3]\n",
      "Accuracy:  [0.90781332]\n",
      "Result Indices:  3\n",
      "['Akshay Kumar', 'Amir khan', 'Nawazuddin Siddiqui', 'Salman Khan', 'Shahrukh Khan', 'Sunil Shetty', 'Tom_cuise', 'ronaldo']\n",
      "Label Name: Salman Khan\n",
      "Face Detected: 1\n"
     ]
    },
    {
     "name": "stderr",
     "output_type": "stream",
     "text": [
      "/home/yasir/.local/lib/python3.6/site-packages/ipykernel_launcher.py:108: DeprecationWarning: `imresize` is deprecated!\n",
      "`imresize` is deprecated in SciPy 1.0.0, and will be removed in 1.2.0.\n",
      "Use ``skimage.transform.resize`` instead.\n",
      "/home/yasir/.local/lib/python3.6/site-packages/ipykernel_launcher.py:108: DeprecationWarning: `imresize` is deprecated!\n",
      "`imresize` is deprecated in SciPy 1.0.0, and will be removed in 1.2.0.\n",
      "Use ``skimage.transform.resize`` instead.\n"
     ]
    },
    {
     "name": "stdout",
     "output_type": "stream",
     "text": [
      "[0]\n",
      "Accuracy:  [0.61494246]\n",
      "Result Indices:  0\n",
      "['Akshay Kumar', 'Amir khan', 'Nawazuddin Siddiqui', 'Salman Khan', 'Shahrukh Khan', 'Sunil Shetty', 'Tom_cuise', 'ronaldo']\n",
      "Label Name: Akshay Kumar\n",
      "Face Detected: 1\n",
      "[5]\n",
      "Accuracy:  [0.95084916]\n",
      "Result Indices:  5\n",
      "['Akshay Kumar', 'Amir khan', 'Nawazuddin Siddiqui', 'Salman Khan', 'Shahrukh Khan', 'Sunil Shetty', 'Tom_cuise', 'ronaldo']\n",
      "Label Name: Sunil Shetty\n",
      "Face Detected: 1\n",
      "[0]\n",
      "Accuracy:  [0.91738036]\n",
      "Result Indices:  0\n",
      "['Akshay Kumar', 'Amir khan', 'Nawazuddin Siddiqui', 'Salman Khan', 'Shahrukh Khan', 'Sunil Shetty', 'Tom_cuise', 'ronaldo']\n",
      "Label Name: Akshay Kumar\n",
      "Face Detected: 1\n"
     ]
    },
    {
     "name": "stderr",
     "output_type": "stream",
     "text": [
      "/home/yasir/.local/lib/python3.6/site-packages/ipykernel_launcher.py:108: DeprecationWarning: `imresize` is deprecated!\n",
      "`imresize` is deprecated in SciPy 1.0.0, and will be removed in 1.2.0.\n",
      "Use ``skimage.transform.resize`` instead.\n",
      "/home/yasir/.local/lib/python3.6/site-packages/ipykernel_launcher.py:108: DeprecationWarning: `imresize` is deprecated!\n",
      "`imresize` is deprecated in SciPy 1.0.0, and will be removed in 1.2.0.\n",
      "Use ``skimage.transform.resize`` instead.\n"
     ]
    },
    {
     "name": "stdout",
     "output_type": "stream",
     "text": [
      "[2]\n",
      "Accuracy:  [0.61993324]\n",
      "Result Indices:  2\n",
      "['Akshay Kumar', 'Amir khan', 'Nawazuddin Siddiqui', 'Salman Khan', 'Shahrukh Khan', 'Sunil Shetty', 'Tom_cuise', 'ronaldo']\n",
      "Label Name: Nawazuddin Siddiqui\n",
      "Face Detected: 0\n",
      "Unable to align\n",
      "Face Detected: 1\n",
      "[6]\n",
      "Accuracy:  [0.8611892]\n",
      "Result Indices:  6\n",
      "['Akshay Kumar', 'Amir khan', 'Nawazuddin Siddiqui', 'Salman Khan', 'Shahrukh Khan', 'Sunil Shetty', 'Tom_cuise', 'ronaldo']\n",
      "Label Name: Tom_cuise\n"
     ]
    },
    {
     "name": "stderr",
     "output_type": "stream",
     "text": [
      "/home/yasir/.local/lib/python3.6/site-packages/ipykernel_launcher.py:108: DeprecationWarning: `imresize` is deprecated!\n",
      "`imresize` is deprecated in SciPy 1.0.0, and will be removed in 1.2.0.\n",
      "Use ``skimage.transform.resize`` instead.\n"
     ]
    },
    {
     "name": "stdout",
     "output_type": "stream",
     "text": [
      "Face Detected: 1\n",
      "[7]\n",
      "Accuracy:  [0.58675701]\n",
      "Result Indices:  7\n",
      "['Akshay Kumar', 'Amir khan', 'Nawazuddin Siddiqui', 'Salman Khan', 'Shahrukh Khan', 'Sunil Shetty', 'Tom_cuise', 'ronaldo']\n",
      "Label Name: ronaldo\n",
      "Face Detected: 1\n"
     ]
    },
    {
     "name": "stderr",
     "output_type": "stream",
     "text": [
      "/home/yasir/.local/lib/python3.6/site-packages/ipykernel_launcher.py:108: DeprecationWarning: `imresize` is deprecated!\n",
      "`imresize` is deprecated in SciPy 1.0.0, and will be removed in 1.2.0.\n",
      "Use ``skimage.transform.resize`` instead.\n",
      "/home/yasir/.local/lib/python3.6/site-packages/ipykernel_launcher.py:108: DeprecationWarning: `imresize` is deprecated!\n",
      "`imresize` is deprecated in SciPy 1.0.0, and will be removed in 1.2.0.\n",
      "Use ``skimage.transform.resize`` instead.\n"
     ]
    },
    {
     "name": "stdout",
     "output_type": "stream",
     "text": [
      "[6]\n",
      "Accuracy:  [0.89115149]\n",
      "Result Indices:  6\n",
      "['Akshay Kumar', 'Amir khan', 'Nawazuddin Siddiqui', 'Salman Khan', 'Shahrukh Khan', 'Sunil Shetty', 'Tom_cuise', 'ronaldo']\n",
      "Label Name: Tom_cuise\n",
      "Face Detected: 1\n",
      "[6]\n",
      "Accuracy:  [0.46611274]\n",
      "Result Indices:  6\n",
      "['Akshay Kumar', 'Amir khan', 'Nawazuddin Siddiqui', 'Salman Khan', 'Shahrukh Khan', 'Sunil Shetty', 'Tom_cuise', 'ronaldo']\n",
      "Label Name: Tom_cuise\n"
     ]
    },
    {
     "name": "stderr",
     "output_type": "stream",
     "text": [
      "/home/yasir/.local/lib/python3.6/site-packages/ipykernel_launcher.py:108: DeprecationWarning: `imresize` is deprecated!\n",
      "`imresize` is deprecated in SciPy 1.0.0, and will be removed in 1.2.0.\n",
      "Use ``skimage.transform.resize`` instead.\n",
      "/home/yasir/.local/lib/python3.6/site-packages/ipykernel_launcher.py:108: DeprecationWarning: `imresize` is deprecated!\n",
      "`imresize` is deprecated in SciPy 1.0.0, and will be removed in 1.2.0.\n",
      "Use ``skimage.transform.resize`` instead.\n"
     ]
    },
    {
     "name": "stdout",
     "output_type": "stream",
     "text": [
      "Face Detected: 1\n",
      "[0]\n",
      "Accuracy:  [0.7790544]\n",
      "Result Indices:  0\n",
      "['Akshay Kumar', 'Amir khan', 'Nawazuddin Siddiqui', 'Salman Khan', 'Shahrukh Khan', 'Sunil Shetty', 'Tom_cuise', 'ronaldo']\n",
      "Label Name: Akshay Kumar\n",
      "Face Detected: 0\n",
      "Unable to align\n",
      "Face Detected: 1\n",
      "[4]\n",
      "Accuracy:  [0.68126441]\n",
      "Result Indices:  4\n",
      "['Akshay Kumar', 'Amir khan', 'Nawazuddin Siddiqui', 'Salman Khan', 'Shahrukh Khan', 'Sunil Shetty', 'Tom_cuise', 'ronaldo']\n",
      "Label Name: Shahrukh Khan\n"
     ]
    },
    {
     "name": "stderr",
     "output_type": "stream",
     "text": [
      "/home/yasir/.local/lib/python3.6/site-packages/ipykernel_launcher.py:108: DeprecationWarning: `imresize` is deprecated!\n",
      "`imresize` is deprecated in SciPy 1.0.0, and will be removed in 1.2.0.\n",
      "Use ``skimage.transform.resize`` instead.\n"
     ]
    },
    {
     "name": "stdout",
     "output_type": "stream",
     "text": [
      "Face Detected: 2\n",
      "[6]\n",
      "Accuracy:  [0.85113595]\n",
      "Result Indices:  6\n",
      "['Akshay Kumar', 'Amir khan', 'Nawazuddin Siddiqui', 'Salman Khan', 'Shahrukh Khan', 'Sunil Shetty', 'Tom_cuise', 'ronaldo']\n",
      "Label Name: Tom_cuise\n",
      "[5]\n",
      "Accuracy:  [0.45039827]\n",
      "Result Indices:  5\n",
      "['Akshay Kumar', 'Amir khan', 'Nawazuddin Siddiqui', 'Salman Khan', 'Shahrukh Khan', 'Sunil Shetty', 'Tom_cuise', 'ronaldo']\n",
      "Label Name: Sunil Shetty\n",
      "Face Detected: 1\n"
     ]
    },
    {
     "name": "stderr",
     "output_type": "stream",
     "text": [
      "/home/yasir/.local/lib/python3.6/site-packages/ipykernel_launcher.py:108: DeprecationWarning: `imresize` is deprecated!\n",
      "`imresize` is deprecated in SciPy 1.0.0, and will be removed in 1.2.0.\n",
      "Use ``skimage.transform.resize`` instead.\n",
      "/home/yasir/.local/lib/python3.6/site-packages/ipykernel_launcher.py:108: DeprecationWarning: `imresize` is deprecated!\n",
      "`imresize` is deprecated in SciPy 1.0.0, and will be removed in 1.2.0.\n",
      "Use ``skimage.transform.resize`` instead.\n",
      "/home/yasir/.local/lib/python3.6/site-packages/ipykernel_launcher.py:108: DeprecationWarning: `imresize` is deprecated!\n",
      "`imresize` is deprecated in SciPy 1.0.0, and will be removed in 1.2.0.\n",
      "Use ``skimage.transform.resize`` instead.\n"
     ]
    },
    {
     "name": "stdout",
     "output_type": "stream",
     "text": [
      "[3]\n",
      "Accuracy:  [0.5636958]\n",
      "Result Indices:  3\n",
      "['Akshay Kumar', 'Amir khan', 'Nawazuddin Siddiqui', 'Salman Khan', 'Shahrukh Khan', 'Sunil Shetty', 'Tom_cuise', 'ronaldo']\n",
      "Label Name: Salman Khan\n",
      "Face Detected: 1\n"
     ]
    },
    {
     "name": "stderr",
     "output_type": "stream",
     "text": [
      "/home/yasir/.local/lib/python3.6/site-packages/ipykernel_launcher.py:108: DeprecationWarning: `imresize` is deprecated!\n",
      "`imresize` is deprecated in SciPy 1.0.0, and will be removed in 1.2.0.\n",
      "Use ``skimage.transform.resize`` instead.\n",
      "/home/yasir/.local/lib/python3.6/site-packages/ipykernel_launcher.py:108: DeprecationWarning: `imresize` is deprecated!\n",
      "`imresize` is deprecated in SciPy 1.0.0, and will be removed in 1.2.0.\n",
      "Use ``skimage.transform.resize`` instead.\n"
     ]
    },
    {
     "name": "stdout",
     "output_type": "stream",
     "text": [
      "[2]\n",
      "Accuracy:  [0.88236682]\n",
      "Result Indices:  2\n",
      "['Akshay Kumar', 'Amir khan', 'Nawazuddin Siddiqui', 'Salman Khan', 'Shahrukh Khan', 'Sunil Shetty', 'Tom_cuise', 'ronaldo']\n",
      "Label Name: Nawazuddin Siddiqui\n",
      "Face Detected: 1\n",
      "[3]\n",
      "Accuracy:  [0.76557169]\n",
      "Result Indices:  3\n",
      "['Akshay Kumar', 'Amir khan', 'Nawazuddin Siddiqui', 'Salman Khan', 'Shahrukh Khan', 'Sunil Shetty', 'Tom_cuise', 'ronaldo']\n",
      "Label Name: Salman Khan\n",
      "Face Detected: 1\n",
      "[7]\n",
      "Accuracy:  [0.85490707]\n",
      "Result Indices:  7\n",
      "['Akshay Kumar', 'Amir khan', 'Nawazuddin Siddiqui', 'Salman Khan', 'Shahrukh Khan', 'Sunil Shetty', 'Tom_cuise', 'ronaldo']\n",
      "Label Name: ronaldo\n",
      "Face Detected: 1\n",
      "[6]\n",
      "Accuracy:  [0.95122159]\n",
      "Result Indices:  6\n",
      "['Akshay Kumar', 'Amir khan', 'Nawazuddin Siddiqui', 'Salman Khan', 'Shahrukh Khan', 'Sunil Shetty', 'Tom_cuise', 'ronaldo']\n",
      "Label Name: Tom_cuise\n"
     ]
    },
    {
     "name": "stderr",
     "output_type": "stream",
     "text": [
      "/home/yasir/.local/lib/python3.6/site-packages/ipykernel_launcher.py:108: DeprecationWarning: `imresize` is deprecated!\n",
      "`imresize` is deprecated in SciPy 1.0.0, and will be removed in 1.2.0.\n",
      "Use ``skimage.transform.resize`` instead.\n",
      "/home/yasir/.local/lib/python3.6/site-packages/ipykernel_launcher.py:108: DeprecationWarning: `imresize` is deprecated!\n",
      "`imresize` is deprecated in SciPy 1.0.0, and will be removed in 1.2.0.\n",
      "Use ``skimage.transform.resize`` instead.\n"
     ]
    },
    {
     "name": "stdout",
     "output_type": "stream",
     "text": [
      "Face Detected: 1\n",
      "[4]\n",
      "Accuracy:  [0.74501893]\n",
      "Result Indices:  4\n",
      "['Akshay Kumar', 'Amir khan', 'Nawazuddin Siddiqui', 'Salman Khan', 'Shahrukh Khan', 'Sunil Shetty', 'Tom_cuise', 'ronaldo']\n",
      "Label Name: Shahrukh Khan\n",
      "Face Detected: 1\n"
     ]
    },
    {
     "name": "stderr",
     "output_type": "stream",
     "text": [
      "/home/yasir/.local/lib/python3.6/site-packages/ipykernel_launcher.py:108: DeprecationWarning: `imresize` is deprecated!\n",
      "`imresize` is deprecated in SciPy 1.0.0, and will be removed in 1.2.0.\n",
      "Use ``skimage.transform.resize`` instead.\n",
      "/home/yasir/.local/lib/python3.6/site-packages/ipykernel_launcher.py:108: DeprecationWarning: `imresize` is deprecated!\n",
      "`imresize` is deprecated in SciPy 1.0.0, and will be removed in 1.2.0.\n",
      "Use ``skimage.transform.resize`` instead.\n"
     ]
    },
    {
     "name": "stdout",
     "output_type": "stream",
     "text": [
      "[0]\n",
      "Accuracy:  [0.91552628]\n",
      "Result Indices:  0\n",
      "['Akshay Kumar', 'Amir khan', 'Nawazuddin Siddiqui', 'Salman Khan', 'Shahrukh Khan', 'Sunil Shetty', 'Tom_cuise', 'ronaldo']\n",
      "Label Name: Akshay Kumar\n",
      "Face Detected: 1\n",
      "[4]\n",
      "Accuracy:  [0.85580025]\n",
      "Result Indices:  4\n",
      "['Akshay Kumar', 'Amir khan', 'Nawazuddin Siddiqui', 'Salman Khan', 'Shahrukh Khan', 'Sunil Shetty', 'Tom_cuise', 'ronaldo']\n",
      "Label Name: Shahrukh Khan\n"
     ]
    },
    {
     "name": "stderr",
     "output_type": "stream",
     "text": [
      "/home/yasir/.local/lib/python3.6/site-packages/ipykernel_launcher.py:108: DeprecationWarning: `imresize` is deprecated!\n",
      "`imresize` is deprecated in SciPy 1.0.0, and will be removed in 1.2.0.\n",
      "Use ``skimage.transform.resize`` instead.\n",
      "/home/yasir/.local/lib/python3.6/site-packages/ipykernel_launcher.py:108: DeprecationWarning: `imresize` is deprecated!\n",
      "`imresize` is deprecated in SciPy 1.0.0, and will be removed in 1.2.0.\n",
      "Use ``skimage.transform.resize`` instead.\n"
     ]
    },
    {
     "name": "stdout",
     "output_type": "stream",
     "text": [
      "Face Detected: 1\n",
      "[2]\n",
      "Accuracy:  [0.82940592]\n",
      "Result Indices:  2\n",
      "['Akshay Kumar', 'Amir khan', 'Nawazuddin Siddiqui', 'Salman Khan', 'Shahrukh Khan', 'Sunil Shetty', 'Tom_cuise', 'ronaldo']\n",
      "Label Name: Nawazuddin Siddiqui\n",
      "Face Detected: 1\n"
     ]
    },
    {
     "name": "stderr",
     "output_type": "stream",
     "text": [
      "/home/yasir/.local/lib/python3.6/site-packages/ipykernel_launcher.py:108: DeprecationWarning: `imresize` is deprecated!\n",
      "`imresize` is deprecated in SciPy 1.0.0, and will be removed in 1.2.0.\n",
      "Use ``skimage.transform.resize`` instead.\n",
      "/home/yasir/.local/lib/python3.6/site-packages/ipykernel_launcher.py:108: DeprecationWarning: `imresize` is deprecated!\n",
      "`imresize` is deprecated in SciPy 1.0.0, and will be removed in 1.2.0.\n",
      "Use ``skimage.transform.resize`` instead.\n"
     ]
    },
    {
     "name": "stdout",
     "output_type": "stream",
     "text": [
      "[3]\n",
      "Accuracy:  [0.94310117]\n",
      "Result Indices:  3\n",
      "['Akshay Kumar', 'Amir khan', 'Nawazuddin Siddiqui', 'Salman Khan', 'Shahrukh Khan', 'Sunil Shetty', 'Tom_cuise', 'ronaldo']\n",
      "Label Name: Salman Khan\n",
      "Face Detected: 1\n",
      "[6]\n",
      "Accuracy:  [0.87093542]\n",
      "Result Indices:  6\n",
      "['Akshay Kumar', 'Amir khan', 'Nawazuddin Siddiqui', 'Salman Khan', 'Shahrukh Khan', 'Sunil Shetty', 'Tom_cuise', 'ronaldo']\n",
      "Label Name: Tom_cuise\n",
      "Face Detected: 1\n",
      "[5]\n",
      "Accuracy:  [0.92075929]\n",
      "Result Indices:  5\n",
      "['Akshay Kumar', 'Amir khan', 'Nawazuddin Siddiqui', 'Salman Khan', 'Shahrukh Khan', 'Sunil Shetty', 'Tom_cuise', 'ronaldo']\n",
      "Label Name: Sunil Shetty\n",
      "Face Detected: 1\n"
     ]
    },
    {
     "name": "stderr",
     "output_type": "stream",
     "text": [
      "/home/yasir/.local/lib/python3.6/site-packages/ipykernel_launcher.py:108: DeprecationWarning: `imresize` is deprecated!\n",
      "`imresize` is deprecated in SciPy 1.0.0, and will be removed in 1.2.0.\n",
      "Use ``skimage.transform.resize`` instead.\n",
      "/home/yasir/.local/lib/python3.6/site-packages/ipykernel_launcher.py:108: DeprecationWarning: `imresize` is deprecated!\n",
      "`imresize` is deprecated in SciPy 1.0.0, and will be removed in 1.2.0.\n",
      "Use ``skimage.transform.resize`` instead.\n"
     ]
    },
    {
     "name": "stdout",
     "output_type": "stream",
     "text": [
      "[7]\n",
      "Accuracy:  [0.86731164]\n",
      "Result Indices:  7\n",
      "['Akshay Kumar', 'Amir khan', 'Nawazuddin Siddiqui', 'Salman Khan', 'Shahrukh Khan', 'Sunil Shetty', 'Tom_cuise', 'ronaldo']\n",
      "Label Name: ronaldo\n",
      "Face Detected: 1\n",
      "[5]\n",
      "Accuracy:  [0.9512875]\n",
      "Result Indices:  5\n",
      "['Akshay Kumar', 'Amir khan', 'Nawazuddin Siddiqui', 'Salman Khan', 'Shahrukh Khan', 'Sunil Shetty', 'Tom_cuise', 'ronaldo']\n",
      "Label Name: Sunil Shetty\n"
     ]
    },
    {
     "name": "stderr",
     "output_type": "stream",
     "text": [
      "/home/yasir/.local/lib/python3.6/site-packages/ipykernel_launcher.py:108: DeprecationWarning: `imresize` is deprecated!\n",
      "`imresize` is deprecated in SciPy 1.0.0, and will be removed in 1.2.0.\n",
      "Use ``skimage.transform.resize`` instead.\n",
      "/home/yasir/.local/lib/python3.6/site-packages/ipykernel_launcher.py:108: DeprecationWarning: `imresize` is deprecated!\n",
      "`imresize` is deprecated in SciPy 1.0.0, and will be removed in 1.2.0.\n",
      "Use ``skimage.transform.resize`` instead.\n"
     ]
    },
    {
     "name": "stdout",
     "output_type": "stream",
     "text": [
      "Face Detected: 1\n",
      "[3]\n",
      "Accuracy:  [0.93146247]\n",
      "Result Indices:  3\n",
      "['Akshay Kumar', 'Amir khan', 'Nawazuddin Siddiqui', 'Salman Khan', 'Shahrukh Khan', 'Sunil Shetty', 'Tom_cuise', 'ronaldo']\n",
      "Label Name: Salman Khan\n"
     ]
    }
   ],
   "source": [
    "from __future__ import absolute_import\n",
    "from __future__ import division\n",
    "from __future__ import print_function\n",
    "import import_ipynb\n",
    "import tensorflow as tf\n",
    "from scipy import misc\n",
    "import cv2\n",
    "import numpy as np\n",
    "import facenet\n",
    "import detect_face\n",
    "import os\n",
    "import time\n",
    "import pickle\n",
    "import sys\n",
    "\n",
    "\n",
    "#img_path='a2.jpg'\n",
    "\n",
    "modeldir = './model/20170511-185253.pb'\n",
    "classifier_filename = './class/classifier.pkl'\n",
    "npy='./npy'\n",
    "train_img=\"./train_img\"\n",
    "test_img=\"./test_img\"\n",
    "\n",
    "\n",
    "\n",
    "with tf.Graph().as_default():\n",
    "    gpu_options = tf.GPUOptions(per_process_gpu_memory_fraction=0.6)\n",
    "    sess = tf.Session(config=tf.ConfigProto(gpu_options=gpu_options, log_device_placement=False))\n",
    "    with sess.as_default():\n",
    "        pnet, rnet, onet = detect_face.create_mtcnn(sess, npy)\n",
    "\n",
    "        minsize = 20  # minimum size of face\n",
    "        threshold = [0.6, 0.7, 0.7]  # three steps's threshold\n",
    "        factor = 0.709  # scale factor\n",
    "        margin = 44\n",
    "        frame_interval = 3\n",
    "        batch_size = 1000\n",
    "        image_size = 182\n",
    "        input_image_size = 160\n",
    "        \n",
    "        HumanNames = os.listdir(train_img)\n",
    "        HumanNames.sort()\n",
    "\n",
    "        print('Loading feature extraction model')\n",
    "        facenet.load_model(modeldir)\n",
    "\n",
    "        images_placeholder = tf.get_default_graph().get_tensor_by_name(\"input:0\")\n",
    "        embeddings = tf.get_default_graph().get_tensor_by_name(\"embeddings:0\")\n",
    "        phase_train_placeholder = tf.get_default_graph().get_tensor_by_name(\"phase_train:0\")\n",
    "        embedding_size = embeddings.get_shape()[1]\n",
    "\n",
    "\n",
    "        classifier_filename_exp = os.path.expanduser(classifier_filename)\n",
    "        with open(classifier_filename_exp, 'rb') as infile:\n",
    "            (model, class_names) = pickle.load(infile)\n",
    "\n",
    "        # video_capture = cv2.VideoCapture(\"akshay_mov.mp4\")\n",
    "        c = 0\n",
    "\n",
    "\n",
    "        print('Start Recognition!')\n",
    "        prevTime = 0\n",
    "        # ret, frame = video_capture.read()\n",
    "        #frame = cv2.imread(img_path,0)\n",
    "        for image in os.listdir(test_img):\n",
    "            frame = cv2.imread(os.path.join('./test_img', image))\n",
    "\n",
    "            frame = cv2.resize(frame, (0,0), fx=0.5, fy=0.5)    #resize frame (optional)\n",
    "\n",
    "            curTime = time.time()+1    # calc fps\n",
    "            timeF = frame_interval\n",
    "\n",
    "            if (c % timeF == 0):\n",
    "                find_results = []\n",
    "\n",
    "                if frame.ndim == 2:\n",
    "                    frame = facenet.to_rgb(frame)\n",
    "                frame = frame[:, :, 0:3]\n",
    "                bounding_boxes, _ = detect_face.detect_face(frame, minsize, pnet, rnet, onet, threshold, factor)\n",
    "                nrof_faces = bounding_boxes.shape[0]\n",
    "                print('Face Detected: %d' % nrof_faces)\n",
    "\n",
    "                if nrof_faces > 0:\n",
    "                    det = bounding_boxes[:, 0:4]\n",
    "                    img_size = np.asarray(frame.shape)[0:2]\n",
    "\n",
    "                    cropped = []\n",
    "                    scaled = []\n",
    "                    scaled_reshape = []\n",
    "                    bb = np.zeros((nrof_faces,4), dtype=np.int32)\n",
    "\n",
    "                    for i in range(nrof_faces):\n",
    "                        emb_array = np.zeros((1, embedding_size))\n",
    "\n",
    "                        bb[i][0] = det[i][0]\n",
    "                        bb[i][1] = det[i][1]\n",
    "                        bb[i][2] = det[i][2]\n",
    "                        bb[i][3] = det[i][3]\n",
    "\n",
    "                        # inner exception\n",
    "                        if bb[i][0] <= 0 or bb[i][1] <= 0 or bb[i][2] >= len(frame[0]) or bb[i][3] >= len(frame):\n",
    "                            print('face is too close')\n",
    "                            continue\n",
    "\n",
    "                        cropped.append(frame[bb[i][1]:bb[i][3], bb[i][0]:bb[i][2], :])\n",
    "                        cropped[i] = facenet.flip(cropped[i], False)\n",
    "                        scaled.append(misc.imresize(cropped[i], (image_size, image_size), interp='bilinear'))\n",
    "                        scaled[i] = cv2.resize(scaled[i], (input_image_size,input_image_size),\n",
    "                                           interpolation=cv2.INTER_CUBIC)\n",
    "                        scaled[i] = facenet.prewhiten(scaled[i])\n",
    "                        scaled_reshape.append(scaled[i].reshape(-1,input_image_size,input_image_size,3))\n",
    "                        feed_dict = {images_placeholder: scaled_reshape[i], phase_train_placeholder: False}\n",
    "                        emb_array[0, :] = sess.run(embeddings, feed_dict=feed_dict)\n",
    "                        predictions = model.predict_proba(emb_array)\n",
    "                        #print(predictions)\n",
    "                        best_class_indices = np.argmax(predictions, axis=1)\n",
    "                        print(best_class_indices)\n",
    "                        best_class_probabilities = predictions[np.arange(len(best_class_indices)), best_class_indices]\n",
    "                        print('Accuracy: ', best_class_probabilities)\n",
    "                        cv2.rectangle(frame, (bb[i][0], bb[i][1]), (bb[i][2], bb[i][3]), (0, 255, 0), 2)    #boxing face\n",
    "\n",
    "                        #plot result idx under box\n",
    "                        text_x = bb[i][0]\n",
    "                        text_y = bb[i][3] + 20\n",
    "                        print('Result Indices: ', best_class_indices[0])\n",
    "                        print(HumanNames)\n",
    "                        for H_i in HumanNames:\n",
    "                            #print(H_i)\n",
    "                            if HumanNames[best_class_indices[0]] == H_i:\n",
    "                                result_names = HumanNames[best_class_indices[0]]\n",
    "                                print('Label Name:', result_names)\n",
    "                                cv2.putText(frame, result_names, (text_x, text_y), cv2.FONT_HERSHEY_COMPLEX_SMALL,\n",
    "                                        1, (0, 0, 255), thickness=1, lineType=2)\n",
    "                else:\n",
    "                    print('Unable to align')\n",
    "                cv2.imshow('Image', frame)\n",
    "\n",
    "        if cv2.waitKey(1000000) & 0xFF == ord('q'):\n",
    "            sys.exit(\"Thanks\")\n",
    "        cv2.destroyAllWindows()\n"
   ]
  }
 ],
 "metadata": {
  "kernelspec": {
   "display_name": "Python 3",
   "language": "python",
   "name": "python3"
  },
  "language_info": {
   "codemirror_mode": {
    "name": "ipython",
    "version": 3
   },
   "file_extension": ".py",
   "mimetype": "text/x-python",
   "name": "python",
   "nbconvert_exporter": "python",
   "pygments_lexer": "ipython3",
   "version": "3.6.9"
  }
 },
 "nbformat": 4,
 "nbformat_minor": 2
}
