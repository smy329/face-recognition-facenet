{
 "cells": [
  {
   "cell_type": "code",
   "execution_count": 1,
   "metadata": {},
   "outputs": [
    {
     "name": "stdout",
     "output_type": "stream",
     "text": [
      "importing Jupyter notebook from facenet.ipynb\n",
      "importing Jupyter notebook from detect_face.ipynb\n"
     ]
    }
   ],
   "source": [
    "from __future__ import absolute_import\n",
    "from __future__ import division\n",
    "from __future__ import print_function\n",
    "import import_ipynb\n",
    "import tensorflow as tf\n",
    "from scipy import misc\n",
    "import cv2\n",
    "import numpy as np\n",
    "import facenet\n",
    "import detect_face\n",
    "import os\n",
    "import time\n",
    "import pickle"
   ]
  },
  {
   "cell_type": "code",
   "execution_count": 2,
   "metadata": {},
   "outputs": [],
   "source": [
    "#input_video=\"akshay_mov.mp4\"\n",
    "modeldir = './model/20170511-185253.pb'\n",
    "classifier_filename = './class/classifier.pkl'\n",
    "npy='./npy'\n",
    "train_img=\"./train_img\""
   ]
  },
  {
   "cell_type": "code",
   "execution_count": 5,
   "metadata": {},
   "outputs": [
    {
     "name": "stdout",
     "output_type": "stream",
     "text": [
      "Loading Modal\n",
      "Model filename: ./model/20170511-185253.pb\n",
      "Start Recognition\n",
      "Detected_FaceNum: 0\n",
      "Alignment Failure\n",
      "Detected_FaceNum: 0\n",
      "Alignment Failure\n",
      "Detected_FaceNum: 0\n",
      "Alignment Failure\n",
      "Detected_FaceNum: 0\n",
      "Alignment Failure\n",
      "Detected_FaceNum: 0\n",
      "Alignment Failure\n",
      "Detected_FaceNum: 0\n",
      "Alignment Failure\n",
      "Detected_FaceNum: 0\n",
      "Alignment Failure\n",
      "Detected_FaceNum: 0\n",
      "Alignment Failure\n",
      "Detected_FaceNum: 0\n",
      "Alignment Failure\n",
      "Detected_FaceNum: 0\n",
      "Alignment Failure\n",
      "Detected_FaceNum: 0\n",
      "Alignment Failure\n",
      "Detected_FaceNum: 0\n",
      "Alignment Failure\n",
      "Detected_FaceNum: 1\n"
     ]
    },
    {
     "name": "stderr",
     "output_type": "stream",
     "text": [
      "/home/yasir/.local/lib/python3.6/site-packages/ipykernel_launcher.py:82: DeprecationWarning: `imresize` is deprecated!\n",
      "`imresize` is deprecated in SciPy 1.0.0, and will be removed in 1.2.0.\n",
      "Use ``skimage.transform.resize`` instead.\n"
     ]
    },
    {
     "name": "stdout",
     "output_type": "stream",
     "text": [
      "[[0.01619775 0.12405306 0.51406875 0.15191573 0.13645793 0.05730677]]\n",
      "[2]  with accuracy  [0.51406875]\n",
      "Detected_FaceNum: 1\n",
      "[[0.03939087 0.05538691 0.22744627 0.21966828 0.35023902 0.10786865]]\n",
      "[4]  with accuracy  [0.35023902]\n"
     ]
    },
    {
     "name": "stderr",
     "output_type": "stream",
     "text": [
      "/home/yasir/.local/lib/python3.6/site-packages/ipykernel_launcher.py:82: DeprecationWarning: `imresize` is deprecated!\n",
      "`imresize` is deprecated in SciPy 1.0.0, and will be removed in 1.2.0.\n",
      "Use ``skimage.transform.resize`` instead.\n"
     ]
    },
    {
     "name": "stdout",
     "output_type": "stream",
     "text": [
      "Detected_FaceNum: 1\n",
      "[[0.0341723  0.11212036 0.43195618 0.08721623 0.20754492 0.12699002]]\n",
      "[2]  with accuracy  [0.43195618]\n"
     ]
    },
    {
     "name": "stderr",
     "output_type": "stream",
     "text": [
      "/home/yasir/.local/lib/python3.6/site-packages/ipykernel_launcher.py:82: DeprecationWarning: `imresize` is deprecated!\n",
      "`imresize` is deprecated in SciPy 1.0.0, and will be removed in 1.2.0.\n",
      "Use ``skimage.transform.resize`` instead.\n"
     ]
    },
    {
     "name": "stdout",
     "output_type": "stream",
     "text": [
      "Detected_FaceNum: 1\n",
      "[[0.02949541 0.17516498 0.45096368 0.07599728 0.12102143 0.14735722]]\n",
      "[2]  with accuracy  [0.45096368]\n"
     ]
    },
    {
     "name": "stderr",
     "output_type": "stream",
     "text": [
      "/home/yasir/.local/lib/python3.6/site-packages/ipykernel_launcher.py:82: DeprecationWarning: `imresize` is deprecated!\n",
      "`imresize` is deprecated in SciPy 1.0.0, and will be removed in 1.2.0.\n",
      "Use ``skimage.transform.resize`` instead.\n"
     ]
    },
    {
     "name": "stdout",
     "output_type": "stream",
     "text": [
      "Detected_FaceNum: 1\n",
      "[[0.02790869 0.04574466 0.79187906 0.02903296 0.05997516 0.04545947]]\n",
      "[2]  with accuracy  [0.79187906]\n",
      "Result Indices:  2\n",
      "['Akshay Kumar', 'Nawazuddin Siddiqui', 'Salman Khan', 'Shahrukh Khan', 'Sunil Shetty', 'Sunny Deol']\n"
     ]
    },
    {
     "name": "stderr",
     "output_type": "stream",
     "text": [
      "/home/yasir/.local/lib/python3.6/site-packages/ipykernel_launcher.py:82: DeprecationWarning: `imresize` is deprecated!\n",
      "`imresize` is deprecated in SciPy 1.0.0, and will be removed in 1.2.0.\n",
      "Use ``skimage.transform.resize`` instead.\n"
     ]
    },
    {
     "name": "stdout",
     "output_type": "stream",
     "text": [
      "Detected_FaceNum: 1\n",
      "[[0.02564499 0.14877686 0.47121448 0.04916312 0.11806722 0.18713333]]\n",
      "[2]  with accuracy  [0.47121448]\n"
     ]
    },
    {
     "name": "stderr",
     "output_type": "stream",
     "text": [
      "/home/yasir/.local/lib/python3.6/site-packages/ipykernel_launcher.py:82: DeprecationWarning: `imresize` is deprecated!\n",
      "`imresize` is deprecated in SciPy 1.0.0, and will be removed in 1.2.0.\n",
      "Use ``skimage.transform.resize`` instead.\n"
     ]
    },
    {
     "name": "stdout",
     "output_type": "stream",
     "text": [
      "Detected_FaceNum: 1\n",
      "[[0.00628941 0.13202818 0.28804774 0.06484678 0.23831581 0.27047209]]\n",
      "[2]  with accuracy  [0.28804774]\n"
     ]
    },
    {
     "name": "stderr",
     "output_type": "stream",
     "text": [
      "/home/yasir/.local/lib/python3.6/site-packages/ipykernel_launcher.py:82: DeprecationWarning: `imresize` is deprecated!\n",
      "`imresize` is deprecated in SciPy 1.0.0, and will be removed in 1.2.0.\n",
      "Use ``skimage.transform.resize`` instead.\n"
     ]
    },
    {
     "name": "stdout",
     "output_type": "stream",
     "text": [
      "Detected_FaceNum: 1\n",
      "[[0.0075263  0.17952516 0.32558694 0.0403744  0.29315052 0.15383668]]\n",
      "[2]  with accuracy  [0.32558694]\n"
     ]
    },
    {
     "name": "stderr",
     "output_type": "stream",
     "text": [
      "/home/yasir/.local/lib/python3.6/site-packages/ipykernel_launcher.py:82: DeprecationWarning: `imresize` is deprecated!\n",
      "`imresize` is deprecated in SciPy 1.0.0, and will be removed in 1.2.0.\n",
      "Use ``skimage.transform.resize`` instead.\n"
     ]
    },
    {
     "name": "stdout",
     "output_type": "stream",
     "text": [
      "Detected_FaceNum: 1\n",
      "[[0.01158671 0.1654128  0.35557748 0.09541001 0.13051329 0.24149971]]\n",
      "[2]  with accuracy  [0.35557748]\n"
     ]
    },
    {
     "name": "stderr",
     "output_type": "stream",
     "text": [
      "/home/yasir/.local/lib/python3.6/site-packages/ipykernel_launcher.py:82: DeprecationWarning: `imresize` is deprecated!\n",
      "`imresize` is deprecated in SciPy 1.0.0, and will be removed in 1.2.0.\n",
      "Use ``skimage.transform.resize`` instead.\n"
     ]
    },
    {
     "name": "stdout",
     "output_type": "stream",
     "text": [
      "Detected_FaceNum: 1\n",
      "[[0.00508559 0.06642594 0.69458067 0.05946957 0.11377562 0.06066262]]\n",
      "[2]  with accuracy  [0.69458067]\n",
      "Result Indices:  2\n",
      "['Akshay Kumar', 'Nawazuddin Siddiqui', 'Salman Khan', 'Shahrukh Khan', 'Sunil Shetty', 'Sunny Deol']\n"
     ]
    },
    {
     "name": "stderr",
     "output_type": "stream",
     "text": [
      "/home/yasir/.local/lib/python3.6/site-packages/ipykernel_launcher.py:82: DeprecationWarning: `imresize` is deprecated!\n",
      "`imresize` is deprecated in SciPy 1.0.0, and will be removed in 1.2.0.\n",
      "Use ``skimage.transform.resize`` instead.\n"
     ]
    },
    {
     "name": "stdout",
     "output_type": "stream",
     "text": [
      "Detected_FaceNum: 1\n",
      "[[0.01314448 0.19539163 0.42631905 0.08526495 0.10376865 0.17611124]]\n",
      "[2]  with accuracy  [0.42631905]\n"
     ]
    },
    {
     "name": "stderr",
     "output_type": "stream",
     "text": [
      "/home/yasir/.local/lib/python3.6/site-packages/ipykernel_launcher.py:82: DeprecationWarning: `imresize` is deprecated!\n",
      "`imresize` is deprecated in SciPy 1.0.0, and will be removed in 1.2.0.\n",
      "Use ``skimage.transform.resize`` instead.\n"
     ]
    },
    {
     "name": "stdout",
     "output_type": "stream",
     "text": [
      "Detected_FaceNum: 1\n",
      "[[0.00730904 0.26367158 0.32551172 0.07932316 0.08825405 0.23593044]]\n",
      "[2]  with accuracy  [0.32551172]\n"
     ]
    },
    {
     "name": "stderr",
     "output_type": "stream",
     "text": [
      "/home/yasir/.local/lib/python3.6/site-packages/ipykernel_launcher.py:82: DeprecationWarning: `imresize` is deprecated!\n",
      "`imresize` is deprecated in SciPy 1.0.0, and will be removed in 1.2.0.\n",
      "Use ``skimage.transform.resize`` instead.\n"
     ]
    },
    {
     "name": "stdout",
     "output_type": "stream",
     "text": [
      "Detected_FaceNum: 1\n",
      "[[0.0068855  0.12694253 0.40253956 0.07070636 0.1680813  0.22484476]]\n",
      "[2]  with accuracy  [0.40253956]\n"
     ]
    },
    {
     "name": "stderr",
     "output_type": "stream",
     "text": [
      "/home/yasir/.local/lib/python3.6/site-packages/ipykernel_launcher.py:82: DeprecationWarning: `imresize` is deprecated!\n",
      "`imresize` is deprecated in SciPy 1.0.0, and will be removed in 1.2.0.\n",
      "Use ``skimage.transform.resize`` instead.\n"
     ]
    },
    {
     "name": "stdout",
     "output_type": "stream",
     "text": [
      "Detected_FaceNum: 1\n",
      "[[0.01728342 0.09483438 0.1938926  0.07148664 0.18125283 0.44125013]]\n",
      "[5]  with accuracy  [0.44125013]\n"
     ]
    },
    {
     "name": "stderr",
     "output_type": "stream",
     "text": [
      "/home/yasir/.local/lib/python3.6/site-packages/ipykernel_launcher.py:82: DeprecationWarning: `imresize` is deprecated!\n",
      "`imresize` is deprecated in SciPy 1.0.0, and will be removed in 1.2.0.\n",
      "Use ``skimage.transform.resize`` instead.\n"
     ]
    },
    {
     "name": "stdout",
     "output_type": "stream",
     "text": [
      "Detected_FaceNum: 2\n",
      "[[0.00813436 0.05523326 0.3150288  0.15317295 0.11562613 0.3528045 ]]\n",
      "[5]  with accuracy  [0.3528045]\n"
     ]
    },
    {
     "name": "stderr",
     "output_type": "stream",
     "text": [
      "/home/yasir/.local/lib/python3.6/site-packages/ipykernel_launcher.py:82: DeprecationWarning: `imresize` is deprecated!\n",
      "`imresize` is deprecated in SciPy 1.0.0, and will be removed in 1.2.0.\n",
      "Use ``skimage.transform.resize`` instead.\n",
      "/home/yasir/.local/lib/python3.6/site-packages/ipykernel_launcher.py:82: DeprecationWarning: `imresize` is deprecated!\n",
      "`imresize` is deprecated in SciPy 1.0.0, and will be removed in 1.2.0.\n",
      "Use ``skimage.transform.resize`` instead.\n"
     ]
    },
    {
     "name": "stdout",
     "output_type": "stream",
     "text": [
      "[[0.11859811 0.13769543 0.02416899 0.36756993 0.15142527 0.20054227]]\n",
      "[3]  with accuracy  [0.36756993]\n",
      "Detected_FaceNum: 1\n",
      "[[0.00557304 0.06564317 0.20875383 0.15359798 0.1004151  0.46601689]]\n",
      "[5]  with accuracy  [0.46601689]\n"
     ]
    },
    {
     "name": "stderr",
     "output_type": "stream",
     "text": [
      "/home/yasir/.local/lib/python3.6/site-packages/ipykernel_launcher.py:82: DeprecationWarning: `imresize` is deprecated!\n",
      "`imresize` is deprecated in SciPy 1.0.0, and will be removed in 1.2.0.\n",
      "Use ``skimage.transform.resize`` instead.\n"
     ]
    },
    {
     "name": "stdout",
     "output_type": "stream",
     "text": [
      "Detected_FaceNum: 1\n",
      "[[0.00540965 0.24019066 0.25332581 0.17253875 0.19801055 0.13052458]]\n",
      "[2]  with accuracy  [0.25332581]\n"
     ]
    },
    {
     "name": "stderr",
     "output_type": "stream",
     "text": [
      "/home/yasir/.local/lib/python3.6/site-packages/ipykernel_launcher.py:82: DeprecationWarning: `imresize` is deprecated!\n",
      "`imresize` is deprecated in SciPy 1.0.0, and will be removed in 1.2.0.\n",
      "Use ``skimage.transform.resize`` instead.\n"
     ]
    },
    {
     "name": "stdout",
     "output_type": "stream",
     "text": [
      "Detected_FaceNum: 1\n",
      "[[0.00325127 0.37173511 0.35488098 0.12002198 0.0733685  0.07674216]]\n",
      "[1]  with accuracy  [0.37173511]\n"
     ]
    },
    {
     "name": "stderr",
     "output_type": "stream",
     "text": [
      "/home/yasir/.local/lib/python3.6/site-packages/ipykernel_launcher.py:82: DeprecationWarning: `imresize` is deprecated!\n",
      "`imresize` is deprecated in SciPy 1.0.0, and will be removed in 1.2.0.\n",
      "Use ``skimage.transform.resize`` instead.\n"
     ]
    },
    {
     "name": "stdout",
     "output_type": "stream",
     "text": [
      "Detected_FaceNum: 1\n",
      "[[0.01169273 0.20888551 0.35753492 0.09840491 0.22325529 0.10022664]]\n",
      "[2]  with accuracy  [0.35753492]\n"
     ]
    },
    {
     "name": "stderr",
     "output_type": "stream",
     "text": [
      "/home/yasir/.local/lib/python3.6/site-packages/ipykernel_launcher.py:82: DeprecationWarning: `imresize` is deprecated!\n",
      "`imresize` is deprecated in SciPy 1.0.0, and will be removed in 1.2.0.\n",
      "Use ``skimage.transform.resize`` instead.\n"
     ]
    },
    {
     "name": "stdout",
     "output_type": "stream",
     "text": [
      "Detected_FaceNum: 1\n",
      "[[0.00751596 0.09247397 0.69880406 0.08868172 0.05516937 0.05735492]]\n",
      "[2]  with accuracy  [0.69880406]\n",
      "Result Indices:  2\n",
      "['Akshay Kumar', 'Nawazuddin Siddiqui', 'Salman Khan', 'Shahrukh Khan', 'Sunil Shetty', 'Sunny Deol']\n"
     ]
    },
    {
     "name": "stderr",
     "output_type": "stream",
     "text": [
      "/home/yasir/.local/lib/python3.6/site-packages/ipykernel_launcher.py:82: DeprecationWarning: `imresize` is deprecated!\n",
      "`imresize` is deprecated in SciPy 1.0.0, and will be removed in 1.2.0.\n",
      "Use ``skimage.transform.resize`` instead.\n"
     ]
    },
    {
     "name": "stdout",
     "output_type": "stream",
     "text": [
      "Detected_FaceNum: 1\n",
      "[[0.00885766 0.11696146 0.53989122 0.0715175  0.09891404 0.16385812]]\n",
      "[2]  with accuracy  [0.53989122]\n",
      "Result Indices:  2\n",
      "['Akshay Kumar', 'Nawazuddin Siddiqui', 'Salman Khan', 'Shahrukh Khan', 'Sunil Shetty', 'Sunny Deol']\n"
     ]
    },
    {
     "name": "stderr",
     "output_type": "stream",
     "text": [
      "/home/yasir/.local/lib/python3.6/site-packages/ipykernel_launcher.py:82: DeprecationWarning: `imresize` is deprecated!\n",
      "`imresize` is deprecated in SciPy 1.0.0, and will be removed in 1.2.0.\n",
      "Use ``skimage.transform.resize`` instead.\n"
     ]
    },
    {
     "name": "stdout",
     "output_type": "stream",
     "text": [
      "Detected_FaceNum: 1\n",
      "[[0.00711542 0.27659703 0.39830145 0.13031028 0.11340524 0.07427058]]\n",
      "[2]  with accuracy  [0.39830145]\n"
     ]
    },
    {
     "name": "stderr",
     "output_type": "stream",
     "text": [
      "/home/yasir/.local/lib/python3.6/site-packages/ipykernel_launcher.py:82: DeprecationWarning: `imresize` is deprecated!\n",
      "`imresize` is deprecated in SciPy 1.0.0, and will be removed in 1.2.0.\n",
      "Use ``skimage.transform.resize`` instead.\n"
     ]
    },
    {
     "name": "stdout",
     "output_type": "stream",
     "text": [
      "Detected_FaceNum: 1\n",
      "[[0.01154994 0.09161979 0.45869974 0.07954791 0.25495712 0.1036255 ]]\n",
      "[2]  with accuracy  [0.45869974]\n"
     ]
    },
    {
     "name": "stderr",
     "output_type": "stream",
     "text": [
      "/home/yasir/.local/lib/python3.6/site-packages/ipykernel_launcher.py:82: DeprecationWarning: `imresize` is deprecated!\n",
      "`imresize` is deprecated in SciPy 1.0.0, and will be removed in 1.2.0.\n",
      "Use ``skimage.transform.resize`` instead.\n"
     ]
    },
    {
     "name": "stdout",
     "output_type": "stream",
     "text": [
      "Detected_FaceNum: 1\n",
      "[[0.01059048 0.13377694 0.31320199 0.07733912 0.37245231 0.09263916]]\n",
      "[4]  with accuracy  [0.37245231]\n"
     ]
    },
    {
     "name": "stderr",
     "output_type": "stream",
     "text": [
      "/home/yasir/.local/lib/python3.6/site-packages/ipykernel_launcher.py:82: DeprecationWarning: `imresize` is deprecated!\n",
      "`imresize` is deprecated in SciPy 1.0.0, and will be removed in 1.2.0.\n",
      "Use ``skimage.transform.resize`` instead.\n"
     ]
    },
    {
     "name": "stdout",
     "output_type": "stream",
     "text": [
      "Detected_FaceNum: 1\n",
      "[[0.0091959  0.09831502 0.49083262 0.13945087 0.16101495 0.10119064]]\n",
      "[2]  with accuracy  [0.49083262]\n"
     ]
    },
    {
     "name": "stderr",
     "output_type": "stream",
     "text": [
      "/home/yasir/.local/lib/python3.6/site-packages/ipykernel_launcher.py:82: DeprecationWarning: `imresize` is deprecated!\n",
      "`imresize` is deprecated in SciPy 1.0.0, and will be removed in 1.2.0.\n",
      "Use ``skimage.transform.resize`` instead.\n"
     ]
    },
    {
     "name": "stdout",
     "output_type": "stream",
     "text": [
      "Detected_FaceNum: 1\n",
      "[[0.00624748 0.24414262 0.32136642 0.08285223 0.14555291 0.19983834]]\n",
      "[2]  with accuracy  [0.32136642]\n"
     ]
    },
    {
     "name": "stderr",
     "output_type": "stream",
     "text": [
      "/home/yasir/.local/lib/python3.6/site-packages/ipykernel_launcher.py:82: DeprecationWarning: `imresize` is deprecated!\n",
      "`imresize` is deprecated in SciPy 1.0.0, and will be removed in 1.2.0.\n",
      "Use ``skimage.transform.resize`` instead.\n"
     ]
    },
    {
     "name": "stdout",
     "output_type": "stream",
     "text": [
      "Detected_FaceNum: 1\n",
      "[[0.01997614 0.12115748 0.5222232  0.13955227 0.10806477 0.08902614]]\n",
      "[2]  with accuracy  [0.5222232]\n"
     ]
    },
    {
     "name": "stderr",
     "output_type": "stream",
     "text": [
      "/home/yasir/.local/lib/python3.6/site-packages/ipykernel_launcher.py:82: DeprecationWarning: `imresize` is deprecated!\n",
      "`imresize` is deprecated in SciPy 1.0.0, and will be removed in 1.2.0.\n",
      "Use ``skimage.transform.resize`` instead.\n"
     ]
    },
    {
     "name": "stdout",
     "output_type": "stream",
     "text": [
      "Detected_FaceNum: 1\n",
      "[[0.00424742 0.16856381 0.36054297 0.10847268 0.21039156 0.14778157]]\n",
      "[2]  with accuracy  [0.36054297]\n"
     ]
    },
    {
     "name": "stderr",
     "output_type": "stream",
     "text": [
      "/home/yasir/.local/lib/python3.6/site-packages/ipykernel_launcher.py:82: DeprecationWarning: `imresize` is deprecated!\n",
      "`imresize` is deprecated in SciPy 1.0.0, and will be removed in 1.2.0.\n",
      "Use ``skimage.transform.resize`` instead.\n"
     ]
    },
    {
     "name": "stdout",
     "output_type": "stream",
     "text": [
      "Detected_FaceNum: 1\n",
      "[[0.00520823 0.06330628 0.44186062 0.05235446 0.30526389 0.13200651]]\n",
      "[2]  with accuracy  [0.44186062]\n"
     ]
    },
    {
     "name": "stderr",
     "output_type": "stream",
     "text": [
      "/home/yasir/.local/lib/python3.6/site-packages/ipykernel_launcher.py:82: DeprecationWarning: `imresize` is deprecated!\n",
      "`imresize` is deprecated in SciPy 1.0.0, and will be removed in 1.2.0.\n",
      "Use ``skimage.transform.resize`` instead.\n"
     ]
    }
   ],
   "source": [
    "# Using OpenCV to initialize the webcam\n",
    "cap = cv2.VideoCapture(0)\n",
    "\n",
    "with tf.Graph().as_default():\n",
    "    gpu_options = tf.GPUOptions(per_process_gpu_memory_fraction=0.6)\n",
    "    sess = tf.Session(config=tf.ConfigProto(gpu_options=gpu_options, log_device_placement=False))\n",
    "    with sess.as_default():\n",
    "        pnet, rnet, onet = detect_face.create_mtcnn(sess, npy)\n",
    "\n",
    "        minsize = 20  # minimum size of face\n",
    "        threshold = [0.6, 0.7, 0.7]  # three steps's threshold\n",
    "        factor = 0.709  # scale factor\n",
    "        margin = 44\n",
    "        frame_interval = 3\n",
    "        batch_size = 1000\n",
    "        image_size = 182\n",
    "        input_image_size = 160\n",
    "        \n",
    "        HumanNames = os.listdir(train_img)\n",
    "        HumanNames.sort()\n",
    "\n",
    "        print('Loading Modal')\n",
    "        facenet.load_model(modeldir)\n",
    "        images_placeholder = tf.get_default_graph().get_tensor_by_name(\"input:0\")\n",
    "        embeddings = tf.get_default_graph().get_tensor_by_name(\"embeddings:0\")\n",
    "        phase_train_placeholder = tf.get_default_graph().get_tensor_by_name(\"phase_train:0\")\n",
    "        embedding_size = embeddings.get_shape()[1]\n",
    "\n",
    "\n",
    "        classifier_filename_exp = os.path.expanduser(classifier_filename)\n",
    "        with open(classifier_filename_exp, 'rb') as infile:\n",
    "            (model, class_names) = pickle.load(infile)\n",
    "\n",
    "        #video_capture = cv2.VideoCapture(input_video)\n",
    "        c = 0\n",
    "\n",
    "\n",
    "        print('Start Recognition')\n",
    "        prevTime = 0\n",
    "        while True:\n",
    "            ret, frame = cap.read()\n",
    "\n",
    "            #frame = cv2.resize(frame, (0,0), fx=0.8, fy=0.8)    #resize frame (optional)\n",
    "\n",
    "            curTime = time.time()+1    # calc fps\n",
    "            timeF = frame_interval\n",
    "\n",
    "            if (c % timeF == 0):\n",
    "                find_results = []\n",
    "\n",
    "                if frame.ndim == 2:\n",
    "                    frame = facenet.to_rgb(frame)\n",
    "                frame = frame[:, :, 0:3]\n",
    "                bounding_boxes, _ = detect_face.detect_face(frame, minsize, pnet, rnet, onet, threshold, factor)\n",
    "                nrof_faces = bounding_boxes.shape[0]\n",
    "                print('Detected_FaceNum: %d' % nrof_faces)\n",
    "\n",
    "                if nrof_faces > 0:\n",
    "                    det = bounding_boxes[:, 0:4]\n",
    "                    img_size = np.asarray(frame.shape)[0:2]\n",
    "\n",
    "                    cropped = []\n",
    "                    scaled = []\n",
    "                    scaled_reshape = []\n",
    "                    bb = np.zeros((nrof_faces,4), dtype=np.int32)\n",
    "\n",
    "                    for i in range(nrof_faces):\n",
    "                        emb_array = np.zeros((1, embedding_size))\n",
    "\n",
    "                        bb[i][0] = det[i][0]\n",
    "                        bb[i][1] = det[i][1]\n",
    "                        bb[i][2] = det[i][2]\n",
    "                        bb[i][3] = det[i][3]\n",
    "\n",
    "                        # inner exception\n",
    "                        if bb[i][0] <= 0 or bb[i][1] <= 0 or bb[i][2] >= len(frame[0]) or bb[i][3] >= len(frame):\n",
    "                            print('Face is very close!')\n",
    "                            continue\n",
    "\n",
    "                        cropped.append(frame[bb[i][1]:bb[i][3], bb[i][0]:bb[i][2], :])\n",
    "                        cropped[i] = facenet.flip(cropped[i], False)\n",
    "                        scaled.append(misc.imresize(cropped[i], (image_size, image_size), interp='bilinear'))\n",
    "                        scaled[i] = cv2.resize(scaled[i], (input_image_size,input_image_size),\n",
    "                                               interpolation=cv2.INTER_CUBIC)\n",
    "                        scaled[i] = facenet.prewhiten(scaled[i])\n",
    "                        scaled_reshape.append(scaled[i].reshape(-1,input_image_size,input_image_size,3))\n",
    "                        feed_dict = {images_placeholder: scaled_reshape[i], phase_train_placeholder: False}\n",
    "                        emb_array[0, :] = sess.run(embeddings, feed_dict=feed_dict)\n",
    "                        predictions = model.predict_proba(emb_array)\n",
    "                        print(predictions)\n",
    "                        best_class_indices = np.argmax(predictions, axis=1)\n",
    "                        best_class_probabilities = predictions[np.arange(len(best_class_indices)), best_class_indices]\n",
    "                        # print(\"predictions\")\n",
    "                        print(best_class_indices,' with accuracy ',best_class_probabilities)\n",
    "\n",
    "                        # print(best_class_probabilities)\n",
    "                        if best_class_probabilities>0.53:\n",
    "                            cv2.rectangle(frame, (bb[i][0], bb[i][1]), (bb[i][2], bb[i][3]), (0, 255, 0), 2)    #boxing face\n",
    "\n",
    "                            #plot result idx under box\n",
    "                            text_x = bb[i][0]\n",
    "                            text_y = bb[i][3] + 20\n",
    "                            print('Result Indices: ', best_class_indices[0])\n",
    "                            print(HumanNames)\n",
    "                            for H_i in HumanNames:\n",
    "                                if HumanNames[best_class_indices[0]] == H_i:\n",
    "                                    result_names = HumanNames[best_class_indices[0]]\n",
    "                                    result_accuracy = str(best_class_probabilities[0])\n",
    "                                    result = result_names + result_accuracy\n",
    "                                    cv2.putText(frame, result, (text_x, text_y), cv2.FONT_HERSHEY_COMPLEX_SMALL,\n",
    "                                                .5, (0, 0, 255), thickness=1, lineType=1)\n",
    "                else:\n",
    "                    print('Alignment Failure')\n",
    "            # c+=1\n",
    "            cv2.imshow('Video', frame)\n",
    "\n",
    "            if cv2.waitKey(1) & 0xFF == ord('q'):\n",
    "                break\n",
    "\n",
    "        cap.release()\n",
    "        cv2.destroyAllWindows()"
   ]
  }
 ],
 "metadata": {
  "kernelspec": {
   "display_name": "Python 3",
   "language": "python",
   "name": "python3"
  },
  "language_info": {
   "codemirror_mode": {
    "name": "ipython",
    "version": 3
   },
   "file_extension": ".py",
   "mimetype": "text/x-python",
   "name": "python",
   "nbconvert_exporter": "python",
   "pygments_lexer": "ipython3",
   "version": "3.6.9"
  }
 },
 "nbformat": 4,
 "nbformat_minor": 2
}
